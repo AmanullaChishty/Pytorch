{
  "nbformat": 4,
  "nbformat_minor": 0,
  "metadata": {
    "colab": {
      "provenance": [],
      "include_colab_link": true
    },
    "kernelspec": {
      "name": "python3",
      "display_name": "Python 3"
    },
    "language_info": {
      "name": "python"
    }
  },
  "cells": [
    {
      "cell_type": "markdown",
      "metadata": {
        "id": "view-in-github",
        "colab_type": "text"
      },
      "source": [
        "<a href=\"https://colab.research.google.com/github/AmanullaChishty/Pytorch/blob/main/LeetCode_75.ipynb\" target=\"_parent\"><img src=\"https://colab.research.google.com/assets/colab-badge.svg\" alt=\"Open In Colab\"/></a>"
      ]
    },
    {
      "cell_type": "markdown",
      "source": [
        "Given a string s, reverse only all the vowels in the string and return it.\n",
        "\n",
        "The vowels are 'a', 'e', 'i', 'o', and 'u', and they can appear in both lower and upper cases, more than once."
      ],
      "metadata": {
        "id": "aau_AMUk5iBH"
      }
    },
    {
      "cell_type": "code",
      "execution_count": 7,
      "metadata": {
        "id": "ls9j9sra3Vnn"
      },
      "outputs": [],
      "source": [
        "class Solution:\n",
        "    def reverseVowels(self, s: str) -> str:\n",
        "      vowels = \"aeiouAEIOU\"\n",
        "      s = list(s)  # Convert the string to a list for mutability\n",
        "      l, r = 0, len(s) - 1  # Initialize two pointers\n",
        "\n",
        "      while l < r:\n",
        "          if s[l] in vowels and s[r] in vowels:  # Both pointers are at vowels\n",
        "              s[l], s[r] = s[r], s[l]  # Swap the vowels\n",
        "              l += 1  # Move the left pointer right\n",
        "              r -= 1  # Move the right pointer left\n",
        "          elif s[l] not in vowels:  # Left pointer is not a vowel\n",
        "              l += 1  # Move the left pointer right\n",
        "          elif s[r] not in vowels:  # Right pointer is not a vowel\n",
        "              r -= 1  # Move the right pointer left\n",
        "\n",
        "      return \"\".join(s)  # Convert the list back to a string\n"
      ]
    },
    {
      "cell_type": "code",
      "source": [
        "Solution.reverseVowels( Solution,\"hello\")"
      ],
      "metadata": {
        "colab": {
          "base_uri": "https://localhost:8080/",
          "height": 36
        },
        "id": "WdpKacHf6Bit",
        "outputId": "d8dd4559-ec9d-42f7-ac4c-e68be39c2f4b"
      },
      "execution_count": 8,
      "outputs": [
        {
          "output_type": "execute_result",
          "data": {
            "text/plain": [
              "'holle'"
            ],
            "application/vnd.google.colaboratory.intrinsic+json": {
              "type": "string"
            }
          },
          "metadata": {},
          "execution_count": 8
        }
      ]
    },
    {
      "cell_type": "markdown",
      "source": [
        "Given an input string s, reverse the order of the words.\n",
        "\n",
        "A word is defined as a sequence of non-space characters. The words in s will be separated by at least one space.\n",
        "\n",
        "Return a string of the words in reverse order concatenated by a single space.\n",
        "\n",
        "Note that s may contain leading or trailing spaces or multiple spaces between two words. The returned string should only have a single space separating the words. Do not include any extra spaces."
      ],
      "metadata": {
        "id": "WSxjpKrNBofW"
      }
    },
    {
      "cell_type": "code",
      "source": [
        "class Solution:\n",
        "  def reverseWords(self, s: str) -> str:\n",
        "    words = s.split()\n",
        "    reversed_words = words[::-1]\n",
        "    return \" \".join(reversed_words)"
      ],
      "metadata": {
        "id": "rmc-Rujv6Bfz"
      },
      "execution_count": 9,
      "outputs": []
    },
    {
      "cell_type": "code",
      "source": [
        "Solution.reverseWords(Solution,\"Let's take LeetCode contest\")"
      ],
      "metadata": {
        "colab": {
          "base_uri": "https://localhost:8080/",
          "height": 36
        },
        "id": "PTGePw-T6Bdb",
        "outputId": "13829fcc-684e-4ab3-9319-aa9a74fdbf4b"
      },
      "execution_count": 10,
      "outputs": [
        {
          "output_type": "execute_result",
          "data": {
            "text/plain": [
              "\"contest LeetCode take Let's\""
            ],
            "application/vnd.google.colaboratory.intrinsic+json": {
              "type": "string"
            }
          },
          "metadata": {},
          "execution_count": 10
        }
      ]
    },
    {
      "cell_type": "markdown",
      "source": [
        "Given an integer array nums, return an array answer such that answer[i] is equal to the product of all the elements of nums except nums[i].\n",
        "\n",
        "The product of any prefix or suffix of nums is guaranteed to fit in a 32-bit integer.\n",
        "\n",
        "You must write an algorithm that runs in O(n) time and without using the division operation."
      ],
      "metadata": {
        "id": "ci1CGFmGDIiI"
      }
    },
    {
      "cell_type": "code",
      "source": [
        "from typing import List\n",
        "class Solution:\n",
        "  def productExceptSelf(self, nums: List[int]) -> List[int]:\n",
        "    n = len(nums)\n",
        "    result = [1] * n  # Initialize result array with all 1s\n",
        "\n",
        "    # Calculate prefix products\n",
        "    prefix_prod = 1\n",
        "    for i in range(n):\n",
        "        result[i] = prefix_prod\n",
        "        prefix_prod *= nums[i]\n",
        "\n",
        "    # Calculate suffix products and multiply with prefix products\n",
        "    postfix_prod = 1\n",
        "    for i in range(n - 1, -1, -1):\n",
        "        result[i] *= postfix_prod\n",
        "        postfix_prod *= nums[i]\n",
        "\n",
        "    return result\n",
        "\n"
      ],
      "metadata": {
        "id": "JjyztW3bCt8K"
      },
      "execution_count": 11,
      "outputs": []
    },
    {
      "cell_type": "code",
      "source": [
        "Solution.productExceptSelf(Solution,[-1,1,0,-3,3])"
      ],
      "metadata": {
        "colab": {
          "base_uri": "https://localhost:8080/"
        },
        "id": "g-Mlp5wjDQVg",
        "outputId": "4b525e18-7a30-40eb-852f-8f2f59f56317"
      },
      "execution_count": 12,
      "outputs": [
        {
          "output_type": "execute_result",
          "data": {
            "text/plain": [
              "[0, 0, 9, 0, 0]"
            ]
          },
          "metadata": {},
          "execution_count": 12
        }
      ]
    },
    {
      "cell_type": "markdown",
      "source": [
        "Given an integer array nums, return true if there exists a triple of indices (i, j, k) such that i < j < k and nums[i] < nums[j] < nums[k]. If no such indices exists, return false."
      ],
      "metadata": {
        "id": "45jyhH3BKeUd"
      }
    },
    {
      "cell_type": "code",
      "source": [
        "from typing import List\n",
        "class Solution:\n",
        "  def increasingTriplet(self, nums: List[int]) -> bool:\n",
        "    first = second = float('inf')\n",
        "\n",
        "    for num in nums:\n",
        "        if num <= first:\n",
        "            first = num\n",
        "        elif num <= second:\n",
        "            second = num\n",
        "        else:\n",
        "            return True\n",
        "\n",
        "    return False"
      ],
      "metadata": {
        "id": "3p75154nDQOx"
      },
      "execution_count": 13,
      "outputs": []
    },
    {
      "cell_type": "code",
      "source": [
        "Solution.increasingTriplet(Solution,[2,1,5,0,4,6])"
      ],
      "metadata": {
        "colab": {
          "base_uri": "https://localhost:8080/"
        },
        "id": "C2koDaYgLZJS",
        "outputId": "bc5e02eb-5bf1-4ba9-f390-d7a76eed242c"
      },
      "execution_count": 14,
      "outputs": [
        {
          "output_type": "execute_result",
          "data": {
            "text/plain": [
              "True"
            ]
          },
          "metadata": {},
          "execution_count": 14
        }
      ]
    },
    {
      "cell_type": "markdown",
      "source": [
        "Given an array of characters chars, compress it using the following algorithm:\n",
        "\n",
        "Begin with an empty string s. For each group of consecutive repeating characters in chars:\n",
        "\n",
        "If the group's length is 1, append the character to s.\n",
        "Otherwise, append the character followed by the group's length.\n",
        "The compressed string s should not be returned separately, but instead, be stored in the input character array chars. Note that group lengths that are 10 or longer will be split into multiple characters in chars.\n",
        "\n",
        "After you are done modifying the input array, return the new length of the array.\n",
        "\n",
        "You must write an algorithm that uses only constant extra space."
      ],
      "metadata": {
        "id": "yQwUyr20KtKj"
      }
    },
    {
      "cell_type": "code",
      "source": [
        "class Solution:\n",
        "    def compress(self, chars: List[str]) -> int:\n",
        "        write = 0\n",
        "        read = 0\n",
        "        n = len(chars)\n",
        "\n",
        "        while read < n:\n",
        "            start = read\n",
        "            while read < n and chars[read]==chars[start]:\n",
        "                read+=1\n",
        "            chars[write] = chars[start]\n",
        "            write +=1\n",
        "            count = read - start\n",
        "            if count > 1:\n",
        "                for digit in str(count):\n",
        "                    chars[write] = digit\n",
        "                    write +=1\n",
        "        return write\n",
        ""
      ],
      "metadata": {
        "id": "7db31ZRmDQF8"
      },
      "execution_count": 15,
      "outputs": []
    },
    {
      "cell_type": "code",
      "source": [
        "Solution.compress(Solution,[\"a\",\"a\",\"b\",\"b\",\"c\",\"c\",\"c\"])"
      ],
      "metadata": {
        "id": "Kwu57icTDQC1",
        "colab": {
          "base_uri": "https://localhost:8080/"
        },
        "outputId": "e3001e61-7b1f-4d7b-b959-df0e93d19ed2"
      },
      "execution_count": 16,
      "outputs": [
        {
          "output_type": "execute_result",
          "data": {
            "text/plain": [
              "6"
            ]
          },
          "metadata": {},
          "execution_count": 16
        }
      ]
    },
    {
      "cell_type": "markdown",
      "source": [
        "Given an integer array nums, move all 0's to the end of it while maintaining the relative order of the non-zero elements.\n",
        "\n",
        "Note that you must do this in-place without making a copy of the array."
      ],
      "metadata": {
        "id": "qOIxtKSHQQWO"
      }
    },
    {
      "cell_type": "code",
      "source": [
        "class Solution:\n",
        "    def moveZeroes(self, nums: List[int]) -> None:\n",
        "      nums.sort(key=lambda x: x == 0)\n",
        "      return nums\n"
      ],
      "metadata": {
        "id": "8ymmPa3BQSSv"
      },
      "execution_count": 19,
      "outputs": []
    },
    {
      "cell_type": "code",
      "source": [
        "Solution.moveZeroes(Solution,[0,1,0,3,12])"
      ],
      "metadata": {
        "colab": {
          "base_uri": "https://localhost:8080/"
        },
        "id": "qWXdkYdDQSYi",
        "outputId": "61fda9f4-29ce-41cb-8702-8fa7d1343bbc"
      },
      "execution_count": 20,
      "outputs": [
        {
          "output_type": "execute_result",
          "data": {
            "text/plain": [
              "[1, 3, 12, 0, 0]"
            ]
          },
          "metadata": {},
          "execution_count": 20
        }
      ]
    }
  ]
}