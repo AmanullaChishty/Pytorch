{
  "nbformat": 4,
  "nbformat_minor": 0,
  "metadata": {
    "colab": {
      "provenance": [],
      "authorship_tag": "ABX9TyPhZP/uOxR4cJ5MfjlwOB0a",
      "include_colab_link": true
    },
    "kernelspec": {
      "name": "python3",
      "display_name": "Python 3"
    },
    "language_info": {
      "name": "python"
    }
  },
  "cells": [
    {
      "cell_type": "markdown",
      "metadata": {
        "id": "view-in-github",
        "colab_type": "text"
      },
      "source": [
        "<a href=\"https://colab.research.google.com/github/AmanullaChishty/Pytorch/blob/main/ComputerVisionPytorch.ipynb\" target=\"_parent\"><img src=\"https://colab.research.google.com/assets/colab-badge.svg\" alt=\"Open In Colab\"/></a>"
      ]
    },
    {
      "cell_type": "code",
      "execution_count": 3,
      "metadata": {
        "id": "TYdOIpyzwQFV"
      },
      "outputs": [],
      "source": [
        "import torch\n",
        "import numpy as np\n",
        "import pandas as pd\n",
        "import torch.nn as nn\n"
      ]
    },
    {
      "cell_type": "markdown",
      "source": [
        "## loading Data"
      ],
      "metadata": {
        "id": "qietz7td8Qrt"
      }
    },
    {
      "cell_type": "code",
      "source": [
        "import torchvision\n",
        "from torchvision import datasets\n",
        "from torchvision.transforms import ToTensor\n",
        "\n",
        "import matplotlib.pyplot as plt\n"
      ],
      "metadata": {
        "id": "wX5WF_VA8QGv"
      },
      "execution_count": 4,
      "outputs": []
    },
    {
      "cell_type": "code",
      "source": [
        "train_data = datasets.MNIST(root=\"data\",train=True,download=True,transform=ToTensor(),target_transform = None)\n",
        "test_data = datasets.MNIST(root=\"data\",train=False,download=True,transform=ToTensor())"
      ],
      "metadata": {
        "colab": {
          "base_uri": "https://localhost:8080/"
        },
        "id": "hPl9D7eF9ALh",
        "outputId": "364115f2-a279-456d-ec06-af5663e4e069"
      },
      "execution_count": 5,
      "outputs": [
        {
          "output_type": "stream",
          "name": "stdout",
          "text": [
            "Downloading http://yann.lecun.com/exdb/mnist/train-images-idx3-ubyte.gz\n",
            "Failed to download (trying next):\n",
            "HTTP Error 403: Forbidden\n",
            "\n",
            "Downloading https://ossci-datasets.s3.amazonaws.com/mnist/train-images-idx3-ubyte.gz\n",
            "Downloading https://ossci-datasets.s3.amazonaws.com/mnist/train-images-idx3-ubyte.gz to data/MNIST/raw/train-images-idx3-ubyte.gz\n"
          ]
        },
        {
          "output_type": "stream",
          "name": "stderr",
          "text": [
            "100%|██████████| 9912422/9912422 [00:00<00:00, 34803942.88it/s]\n"
          ]
        },
        {
          "output_type": "stream",
          "name": "stdout",
          "text": [
            "Extracting data/MNIST/raw/train-images-idx3-ubyte.gz to data/MNIST/raw\n",
            "\n",
            "Downloading http://yann.lecun.com/exdb/mnist/train-labels-idx1-ubyte.gz\n",
            "Failed to download (trying next):\n",
            "HTTP Error 403: Forbidden\n",
            "\n",
            "Downloading https://ossci-datasets.s3.amazonaws.com/mnist/train-labels-idx1-ubyte.gz\n",
            "Downloading https://ossci-datasets.s3.amazonaws.com/mnist/train-labels-idx1-ubyte.gz to data/MNIST/raw/train-labels-idx1-ubyte.gz\n"
          ]
        },
        {
          "output_type": "stream",
          "name": "stderr",
          "text": [
            "100%|██████████| 28881/28881 [00:00<00:00, 1224619.57it/s]\n"
          ]
        },
        {
          "output_type": "stream",
          "name": "stdout",
          "text": [
            "Extracting data/MNIST/raw/train-labels-idx1-ubyte.gz to data/MNIST/raw\n",
            "\n",
            "Downloading http://yann.lecun.com/exdb/mnist/t10k-images-idx3-ubyte.gz\n",
            "Failed to download (trying next):\n",
            "HTTP Error 403: Forbidden\n",
            "\n",
            "Downloading https://ossci-datasets.s3.amazonaws.com/mnist/t10k-images-idx3-ubyte.gz\n",
            "Downloading https://ossci-datasets.s3.amazonaws.com/mnist/t10k-images-idx3-ubyte.gz to data/MNIST/raw/t10k-images-idx3-ubyte.gz\n"
          ]
        },
        {
          "output_type": "stream",
          "name": "stderr",
          "text": [
            "100%|██████████| 1648877/1648877 [00:00<00:00, 9282764.20it/s]\n"
          ]
        },
        {
          "output_type": "stream",
          "name": "stdout",
          "text": [
            "Extracting data/MNIST/raw/t10k-images-idx3-ubyte.gz to data/MNIST/raw\n",
            "\n",
            "Downloading http://yann.lecun.com/exdb/mnist/t10k-labels-idx1-ubyte.gz\n",
            "Failed to download (trying next):\n",
            "HTTP Error 403: Forbidden\n",
            "\n",
            "Downloading https://ossci-datasets.s3.amazonaws.com/mnist/t10k-labels-idx1-ubyte.gz\n",
            "Downloading https://ossci-datasets.s3.amazonaws.com/mnist/t10k-labels-idx1-ubyte.gz to data/MNIST/raw/t10k-labels-idx1-ubyte.gz\n"
          ]
        },
        {
          "output_type": "stream",
          "name": "stderr",
          "text": [
            "100%|██████████| 4542/4542 [00:00<00:00, 2873382.92it/s]"
          ]
        },
        {
          "output_type": "stream",
          "name": "stdout",
          "text": [
            "Extracting data/MNIST/raw/t10k-labels-idx1-ubyte.gz to data/MNIST/raw\n",
            "\n"
          ]
        },
        {
          "output_type": "stream",
          "name": "stderr",
          "text": [
            "\n"
          ]
        }
      ]
    },
    {
      "cell_type": "code",
      "source": [
        "image,label = train_data[0]\n",
        "# image,label\n",
        "image.shape"
      ],
      "metadata": {
        "colab": {
          "base_uri": "https://localhost:8080/"
        },
        "id": "We5F2zR49AIP",
        "outputId": "1a23d633-3ad5-4df4-8d4d-b8ddddde50b0"
      },
      "execution_count": 6,
      "outputs": [
        {
          "output_type": "execute_result",
          "data": {
            "text/plain": [
              "torch.Size([1, 28, 28])"
            ]
          },
          "metadata": {},
          "execution_count": 6
        }
      ]
    },
    {
      "cell_type": "code",
      "source": [
        "# Checking for sample size of test and train data\n",
        "len(train_data.data),len(train_data.targets),len(test_data.data),len(test_data.targets)"
      ],
      "metadata": {
        "colab": {
          "base_uri": "https://localhost:8080/"
        },
        "id": "-5lMC6Ag9AFj",
        "outputId": "b99dddf5-6172-4360-f4e1-9c3514319df6"
      },
      "execution_count": 7,
      "outputs": [
        {
          "output_type": "execute_result",
          "data": {
            "text/plain": [
              "(60000, 60000, 10000, 10000)"
            ]
          },
          "metadata": {},
          "execution_count": 7
        }
      ]
    },
    {
      "cell_type": "code",
      "source": [
        "class_names = train_data.classes\n",
        "class_names"
      ],
      "metadata": {
        "colab": {
          "base_uri": "https://localhost:8080/"
        },
        "id": "SQnmslCU9AC0",
        "outputId": "40628c43-e54e-493e-94e9-1c37b5cae710"
      },
      "execution_count": 8,
      "outputs": [
        {
          "output_type": "execute_result",
          "data": {
            "text/plain": [
              "['0 - zero',\n",
              " '1 - one',\n",
              " '2 - two',\n",
              " '3 - three',\n",
              " '4 - four',\n",
              " '5 - five',\n",
              " '6 - six',\n",
              " '7 - seven',\n",
              " '8 - eight',\n",
              " '9 - nine']"
            ]
          },
          "metadata": {},
          "execution_count": 8
        }
      ]
    },
    {
      "cell_type": "markdown",
      "source": [
        "## Visualizing the Data"
      ],
      "metadata": {
        "id": "49vaD5Mm_f1A"
      }
    },
    {
      "cell_type": "code",
      "source": [
        "image,label = train_data[0]\n",
        "print(f\"Image Shape : {image.shape}\")\n",
        "plt.imshow(image.squeeze())\n",
        "plt.title(label)"
      ],
      "metadata": {
        "colab": {
          "base_uri": "https://localhost:8080/",
          "height": 487
        },
        "id": "HZVZv6-S9AAB",
        "outputId": "d944077a-0ffc-4df3-f6bc-2fcf2327847f"
      },
      "execution_count": 9,
      "outputs": [
        {
          "output_type": "stream",
          "name": "stdout",
          "text": [
            "Image Shape : torch.Size([1, 28, 28])\n"
          ]
        },
        {
          "output_type": "execute_result",
          "data": {
            "text/plain": [
              "Text(0.5, 1.0, '5')"
            ]
          },
          "metadata": {},
          "execution_count": 9
        },
        {
          "output_type": "display_data",
          "data": {
            "text/plain": [
              "<Figure size 640x480 with 1 Axes>"
            ],
            "image/png": "[encoded data removed]"
          },
          "metadata": {}
        }
      ]
    },
    {
      "cell_type": "code",
      "source": [
        "torch.manual_seed(42)\n",
        "fig = plt.figure(figsize=(9,4))\n",
        "rw,cl = 2,5\n",
        "for i in range(1,rw*cl+1):\n",
        "  random_idx = torch.randint(0,len(train_data),size=[1]).item()\n",
        "  img,label = train_data[random_idx]\n",
        "  fig.add_subplot(rw,cl,i)\n",
        "  plt.imshow(img.squeeze(),cmap=\"gray\")\n",
        "  plt.title(class_names[label])\n",
        "  plt.axis(False)"
      ],
      "metadata": {
        "colab": {
          "base_uri": "https://localhost:8080/",
          "height": 347
        },
        "id": "N8a_LtHU8_9H",
        "outputId": "8c66a69d-4cfd-499c-cc66-9d9ece09a53b"
      },
      "execution_count": 10,
      "outputs": [
        {
          "output_type": "display_data",
          "data": {
            "text/plain": [
              "<Figure size 900x400 with 10 Axes>"
            ],
            "image/png": "[encoded data removed]"
          },
          "metadata": {}
        }
      ]
    },
    {
      "cell_type": "markdown",
      "source": [
        "## Prepping Dataloader"
      ],
      "metadata": {
        "id": "juEFClASDGRf"
      }
    },
    {
      "cell_type": "code",
      "source": [
        "from torch.utils.data import DataLoader\n",
        "\n",
        "BATCH_SIZE = 32\n",
        "\n",
        "train_dataloader = DataLoader(train_data,batch_size=BATCH_SIZE,shuffle=True)\n",
        "test_dataloader = DataLoader(test_data,batch_size=BATCH_SIZE,shuffle=False)\n",
        "\n",
        "print(f\"Dataloaders : {train_dataloader,test_dataloader}\")\n",
        "print(f\"Length of train dataloader : {len(train_dataloader)} and Length of test dataloader : {len(test_dataloader)}\")\n",
        "print(f\"Number of batches in train dataloader : {BATCH_SIZE} and Number of batches in test dataloader : {BATCH_SIZE}\")"
      ],
      "metadata": {
        "colab": {
          "base_uri": "https://localhost:8080/"
        },
        "id": "SZqR35BI8_6d",
        "outputId": "8f6d00f9-4996-4eea-c1ea-9a688f843113"
      },
      "execution_count": 11,
      "outputs": [
        {
          "output_type": "stream",
          "name": "stdout",
          "text": [
            "Dataloaders : (<torch.utils.data.dataloader.DataLoader object at 0x78d67ff4f850>, <torch.utils.data.dataloader.DataLoader object at 0x78d67ff4fe50>)\n",
            "Length of train dataloader : 1875 and Length of test dataloader : 313\n",
            "Number of batches in train dataloader : 32 and Number of batches in test dataloader : 32\n"
          ]
        }
      ]
    },
    {
      "cell_type": "markdown",
      "source": [
        "## Building a CONVOLUTIONAL NUERAL NETWROK (CNN)"
      ],
      "metadata": {
        "id": "dYccjBk6VR-g"
      }
    },
    {
      "cell_type": "code",
      "source": [
        "class MNISTModel(nn.Module):\n",
        "  def __init__(self,input_shape:int,output_shape:int,hidden_units:int):\n",
        "    super().__init__()\n",
        "    self.block_1 = nn.Sequential(nn.Conv2d(in_channels=input_shape,out_channels=hidden_units,kernel_size=3,stride=1,padding=1),\n",
        "    nn.ReLU(),\n",
        "    nn.Conv2d(in_channels=hidden_units,out_channels=hidden_units,kernel_size=3,stride=1,padding=1),\n",
        "    nn.ReLU(),\n",
        "    nn.MaxPool2d(kernel_size=2,stride=2))\n",
        "\n",
        "    self.block_2 = nn.Sequential(nn.Conv2d(hidden_units,hidden_units,3,padding=1),\n",
        "    nn.ReLU(),\n",
        "    nn.Conv2d(hidden_units,hidden_units,3,padding=1),\n",
        "    nn.ReLU(),\n",
        "    nn.MaxPool2d(2))\n",
        "\n",
        "    self.classifier = nn.Sequential(nn.Flatten(),nn.Linear(in_features=hidden_units*7*7,out_features=output_shape))\n",
        "\n",
        "  def forward(self,x:torch.Tensor):\n",
        "    x = self.block_1(x)\n",
        "    x = self.block_2(x)\n",
        "    x = self.classifier(x)\n",
        "    return x\n",
        "\n",
        "torch.manual_seed(42)\n",
        "\n",
        "model_0 = MNISTModel(input_shape=1,output_shape=len(class_names),hidden_units=10)\n",
        "model_0\n",
        "\n"
      ],
      "metadata": {
        "colab": {
          "base_uri": "https://localhost:8080/"
        },
        "id": "yvqeDdZE8_3y",
        "outputId": "4ec4a5b4-2dcc-45e1-ae45-ddb28a556945"
      },
      "execution_count": 24,
      "outputs": [
        {
          "output_type": "execute_result",
          "data": {
            "text/plain": [
              "MNISTModel(\n",
              "  (block_1): Sequential(\n",
              "    (0): Conv2d(1, 10, kernel_size=(3, 3), stride=(1, 1), padding=(1, 1))\n",
              "    (1): ReLU()\n",
              "    (2): Conv2d(10, 10, kernel_size=(3, 3), stride=(1, 1), padding=(1, 1))\n",
              "    (3): ReLU()\n",
              "    (4): MaxPool2d(kernel_size=2, stride=2, padding=0, dilation=1, ceil_mode=False)\n",
              "  )\n",
              "  (block_2): Sequential(\n",
              "    (0): Conv2d(10, 10, kernel_size=(3, 3), stride=(1, 1), padding=(1, 1))\n",
              "    (1): ReLU()\n",
              "    (2): Conv2d(10, 10, kernel_size=(3, 3), stride=(1, 1), padding=(1, 1))\n",
              "    (3): ReLU()\n",
              "    (4): MaxPool2d(kernel_size=2, stride=2, padding=0, dilation=1, ceil_mode=False)\n",
              "  )\n",
              "  (classifier): Sequential(\n",
              "    (0): Flatten(start_dim=1, end_dim=-1)\n",
              "    (1): Linear(in_features=490, out_features=10, bias=True)\n",
              "  )\n",
              ")"
            ]
          },
          "metadata": {},
          "execution_count": 24
        }
      ]
    },
    {
      "cell_type": "code",
      "source": [
        "# Calculate accuracy (a classification metric)\n",
        "def accuracy_fn(y_true, y_pred):\n",
        "    \"\"\"Calculates accuracy between truth labels and predictions.\n",
        "\n",
        "    Args:\n",
        "        y_true (torch.Tensor): Truth labels for predictions.\n",
        "        y_pred (torch.Tensor): Predictions to be compared to predictions.\n",
        "\n",
        "    Returns:\n",
        "        [torch.float]: Accuracy value between y_true and y_pred, e.g. 78.45\n",
        "    \"\"\"\n",
        "    correct = torch.eq(y_true, y_pred).sum().item()\n",
        "    acc = (correct / len(y_pred)) * 100\n",
        "    return acc"
      ],
      "metadata": {
        "id": "orGqsCRumjas"
      },
      "execution_count": 25,
      "outputs": []
    },
    {
      "cell_type": "code",
      "source": [
        "# Setting up loss and optimizer\n",
        "loss_fn = nn.CrossEntropyLoss()\n",
        "optimizer = torch.optim.SGD(params=model_0.parameters(),lr=0.1)"
      ],
      "metadata": {
        "id": "v0L0Z0oj8_1B"
      },
      "execution_count": 26,
      "outputs": []
    },
    {
      "cell_type": "markdown",
      "source": [
        "## Training and testing Model"
      ],
      "metadata": {
        "id": "bxEooRSYoWeF"
      }
    },
    {
      "cell_type": "code",
      "source": [
        "def train_step(model:torch.nn.Module,data_loader:torch.utils.data.DataLoader,loss_fn:torch.nn.Module,optimizer:torch.optim.Optimizer,accuracy_fn):\n",
        "  train_loss,train_acc = 0,0\n",
        "  for batch, (X,y) in enumerate(data_loader):\n",
        "    y_pred = model(X)\n",
        "    loss = loss_fn(y_pred,y)\n",
        "    train_loss += loss\n",
        "    train_acc += accuracy_fn(y_true=y,y_pred=y_pred.argmax(dim=1))\n",
        "    optimizer.zero_grad()\n",
        "    loss.backward()\n",
        "    optimizer.step()\n",
        "\n",
        "  train_loss /= len(data_loader)\n",
        "  train_acc /= len(data_loader)\n",
        "  print(f\"Train loss : {train_loss:.5f} and Train accuracy : {train_acc:.2f}%\")\n",
        "\n"
      ],
      "metadata": {
        "id": "0dRen88QlGbf"
      },
      "execution_count": 27,
      "outputs": []
    },
    {
      "cell_type": "code",
      "source": [
        "def test_step(model:torch.nn.Module,data_loader:torch.utils.data.DataLoader,loss_fn:torch.nn.Module,accuracy_fn):\n",
        "  test_loss,test_acc = 0,0\n",
        "  model.eval()\n",
        "  with torch.inference_mode():\n",
        "    for X,y in data_loader:\n",
        "      test_pred = model(X)\n",
        "      test_loss += loss_fn(test_pred,y)\n",
        "      test_acc += accuracy_fn(y_true=y,y_pred=test_pred.argmax(dim=1))\n",
        "    test_loss /= len(data_loader)\n",
        "    test_acc /= len(data_loader)\n",
        "    print(f\"Test loss : {test_loss:.5f} and Test accuracy : {test_acc:.2f}%\")"
      ],
      "metadata": {
        "id": "wLPxRVlrngN9"
      },
      "execution_count": 28,
      "outputs": []
    },
    {
      "cell_type": "code",
      "source": [
        "def eval_model(model:torch.nn.Module,data_loader:torch.utils.data.DataLoader,loss_fn:torch.nn.Module,accuracy_fn):\n",
        "  loss,acc = 0,0\n",
        "  model.eval()\n",
        "  with torch.inference_mode():\n",
        "    for X,y in data_loader:\n",
        "      test_pred = model(X)\n",
        "      loss += loss_fn(test_pred,y)\n",
        "      acc += accuracy_fn(y_true=y,y_pred=test_pred.argmax(dim=1))\n",
        "\n",
        "    loss /= len(data_loader)\n",
        "    acc /= len(data_loader)\n",
        "  return {\"model_name\": model.__class__.__name__,\n",
        "            \"model_loss\": loss.item(),\n",
        "            \"model_acc\": acc}"
      ],
      "metadata": {
        "id": "782fmml_lGYH"
      },
      "execution_count": 29,
      "outputs": []
    },
    {
      "cell_type": "code",
      "source": [
        "import tqdm\n",
        "torch.manual_seed(42)\n",
        "\n",
        "epochs = 3\n",
        "\n",
        "for epoch in tqdm.tqdm(range(epochs)):\n",
        "  print(f\"Epoch : {epoch}\\n--------------\")\n",
        "  train_step(model=model_0,data_loader=train_dataloader,loss_fn=loss_fn,optimizer=optimizer,accuracy_fn=accuracy_fn)\n",
        "  test_step(model=model_0,data_loader=test_dataloader,loss_fn=loss_fn,accuracy_fn=accuracy_fn)\n"
      ],
      "metadata": {
        "colab": {
          "base_uri": "https://localhost:8080/"
        },
        "id": "4BxMyTMSlGU-",
        "outputId": "a1536a15-25ab-4ae6-c264-2c03d0296d17"
      },
      "execution_count": 30,
      "outputs": [
        {
          "output_type": "stream",
          "name": "stderr",
          "text": [
            "\r  0%|          | 0/3 [00:00<?, ?it/s]"
          ]
        },
        {
          "output_type": "stream",
          "name": "stdout",
          "text": [
            "Epoch : 0\n",
            "--------------\n",
            "Train loss : 0.33561 and Train accuracy : 88.74%\n"
          ]
        },
        {
          "output_type": "stream",
          "name": "stderr",
          "text": [
            "\r 33%|███▎      | 1/3 [00:56<01:53, 56.85s/it]"
          ]
        },
        {
          "output_type": "stream",
          "name": "stdout",
          "text": [
            "Test loss : 0.07362 and Test accuracy : 97.71%\n",
            "Epoch : 1\n",
            "--------------\n",
            "Train loss : 0.08217 and Train accuracy : 97.44%\n"
          ]
        },
        {
          "output_type": "stream",
          "name": "stderr",
          "text": [
            "\r 67%|██████▋   | 2/3 [01:54<00:57, 57.44s/it]"
          ]
        },
        {
          "output_type": "stream",
          "name": "stdout",
          "text": [
            "Test loss : 0.06596 and Test accuracy : 97.95%\n",
            "Epoch : 2\n",
            "--------------\n",
            "Train loss : 0.06436 and Train accuracy : 97.97%\n"
          ]
        },
        {
          "output_type": "stream",
          "name": "stderr",
          "text": [
            "100%|██████████| 3/3 [02:51<00:00, 57.06s/it]"
          ]
        },
        {
          "output_type": "stream",
          "name": "stdout",
          "text": [
            "Test loss : 0.05947 and Test accuracy : 98.04%\n"
          ]
        },
        {
          "output_type": "stream",
          "name": "stderr",
          "text": [
            "\n"
          ]
        }
      ]
    },
    {
      "cell_type": "code",
      "source": [
        "model_results = eval_model(model=model_0,data_loader=test_dataloader,loss_fn=loss_fn,accuracy_fn=accuracy_fn)\n",
        "model_results"
      ],
      "metadata": {
        "colab": {
          "base_uri": "https://localhost:8080/"
        },
        "id": "QDNtVh6It0X-",
        "outputId": "73b87edd-8c6c-498b-98e3-49323767e1e6"
      },
      "execution_count": 31,
      "outputs": [
        {
          "output_type": "execute_result",
          "data": {
            "text/plain": [
              "{'model_name': 'MNISTModel',\n",
              " 'model_loss': 0.05947470664978027,\n",
              " 'model_acc': 98.04313099041534}"
            ]
          },
          "metadata": {},
          "execution_count": 31
        }
      ]
    },
    {
      "cell_type": "markdown",
      "source": [
        "## Using the model to make predictions"
      ],
      "metadata": {
        "id": "OsXePs_0uJ1x"
      }
    },
    {
      "cell_type": "code",
      "source": [
        "def make_predictions(model:torch.nn.Module,data:list):\n",
        "  pred_probs = []\n",
        "  model.eval()\n",
        "  with torch.inference_mode():\n",
        "    for sample in data:\n",
        "      sample = torch.unsqueeze(sample, dim=0)\n",
        "      pred_logit = model(sample)\n",
        "      pred_prob = torch.softmax(pred_logit.squeeze(),dim=0)\n",
        "      pred_probs.append(pred_prob)\n",
        "  return torch.stack(pred_probs)"
      ],
      "metadata": {
        "id": "VCsdZRb5t0UU"
      },
      "execution_count": 36,
      "outputs": []
    },
    {
      "cell_type": "code",
      "source": [
        "import random\n",
        "random.seed(42)\n",
        "test_samples = []\n",
        "test_labels = []\n",
        "for sample,label in random.sample(list(test_data),k=9):\n",
        "  test_samples.append(sample)\n",
        "  test_labels.append(label)\n",
        "print(f\"Test samples : {test_samples[0].shape}\")\n",
        "print(f\"Test labels : {test_labels[0]}\")\n",
        "print(f\"Test sample label : {class_names[test_labels[0]]}\")"
      ],
      "metadata": {
        "colab": {
          "base_uri": "https://localhost:8080/"
        },
        "id": "x7JmfZdjt0RU",
        "outputId": "e702ef0a-0881-445d-c130-ff7ce114b80a"
      },
      "execution_count": 34,
      "outputs": [
        {
          "output_type": "stream",
          "name": "stdout",
          "text": [
            "Test samples : torch.Size([1, 28, 28])\n",
            "Test labels : 2\n",
            "Test sample label : 2 - two\n"
          ]
        }
      ]
    },
    {
      "cell_type": "code",
      "source": [
        "pred_probs = make_predictions(model=model_0,data=test_samples)\n",
        "pred_probs[:2]"
      ],
      "metadata": {
        "colab": {
          "base_uri": "https://localhost:8080/"
        },
        "id": "f4_Ri7cft0Oh",
        "outputId": "7fe3a5dc-0470-486b-b1fc-c78d20ad20b9"
      },
      "execution_count": 37,
      "outputs": [
        {
          "output_type": "execute_result",
          "data": {
            "text/plain": [
              "tensor([[9.5611e-11, 5.2553e-07, 1.0000e+00, 1.3429e-07, 2.3216e-14, 1.6182e-15,\n",
              "         1.1093e-13, 6.9319e-09, 1.7391e-06, 1.2477e-10],\n",
              "        [1.3504e-07, 9.9834e-01, 1.5989e-06, 5.4371e-08, 6.9274e-06, 7.8727e-04,\n",
              "         2.2412e-04, 2.4924e-07, 6.1812e-04, 1.8624e-05]])"
            ]
          },
          "metadata": {},
          "execution_count": 37
        }
      ]
    },
    {
      "cell_type": "code",
      "source": [
        "pred_classes = torch.argmax(pred_probs,dim=1)\n",
        "pred_classes"
      ],
      "metadata": {
        "colab": {
          "base_uri": "https://localhost:8080/"
        },
        "id": "WjWPlxjFt0Ld",
        "outputId": "8ade1ce7-42cf-46b1-a7e1-19b4b6e0c833"
      },
      "execution_count": 38,
      "outputs": [
        {
          "output_type": "execute_result",
          "data": {
            "text/plain": [
              "tensor([2, 1, 2, 4, 6, 6, 4, 9, 1])"
            ]
          },
          "metadata": {},
          "execution_count": 38
        }
      ]
    },
    {
      "cell_type": "code",
      "source": [
        "test_labels,pred_classes"
      ],
      "metadata": {
        "colab": {
          "base_uri": "https://localhost:8080/"
        },
        "id": "wdiGupe8t0Ii",
        "outputId": "67028ecd-b32e-40e2-ab9d-7d6d9578677a"
      },
      "execution_count": 39,
      "outputs": [
        {
          "output_type": "execute_result",
          "data": {
            "text/plain": [
              "([2, 1, 2, 4, 6, 6, 4, 9, 1], tensor([2, 1, 2, 4, 6, 6, 4, 9, 1]))"
            ]
          },
          "metadata": {},
          "execution_count": 39
        }
      ]
    },
    {
      "cell_type": "code",
      "source": [
        "plt.figure(figsize=(14,4))\n",
        "rws = 2\n",
        "cls = 5\n",
        "for i,sample in enumerate(test_samples):\n",
        "  plt.subplot(rws,cls,i+1)\n",
        "  plt.imshow(sample.squeeze(),cmap=\"gray\")\n",
        "  pred_label = class_names[pred_classes[i]]\n",
        "  true_label = class_names[test_labels[i]]\n",
        "  title_text = f\"Pred : {pred_label} | True : {true_label}\"\n",
        "  if pred_label == true_label:\n",
        "    plt.title(title_text,fontsize=10,c=\"green\")\n",
        "  else:\n",
        "    plt.title(title_text,fontsize=10,c=\"red\")\n",
        "  plt.axis(False)"
      ],
      "metadata": {
        "colab": {
          "base_uri": "https://localhost:8080/",
          "height": 364
        },
        "id": "_BU6vF1nt0E-",
        "outputId": "76e4f007-33a8-486f-8a19-74a6f60741d4"
      },
      "execution_count": 42,
      "outputs": [
        {
          "output_type": "display_data",
          "data": {
            "text/plain": [
              "<Figure size 1400x400 with 9 Axes>"
            ],
            "image/png": "[encoded data removed]"
          },
          "metadata": {}
        }
      ]
    },
    {
      "cell_type": "code",
      "source": [],
      "metadata": {
        "id": "5tlIYkptt0B7"
      },
      "execution_count": null,
      "outputs": []
    },
    {
      "cell_type": "code",
      "source": [],
      "metadata": {
        "id": "LCY4GsB4tz-v"
      },
      "execution_count": null,
      "outputs": []
    },
    {
      "cell_type": "code",
      "source": [],
      "metadata": {
        "id": "D28QIXEbtz8A"
      },
      "execution_count": null,
      "outputs": []
    }
  ]
}