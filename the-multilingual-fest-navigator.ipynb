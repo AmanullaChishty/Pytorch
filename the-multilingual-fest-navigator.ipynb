{
 "cells": [
  {
   "cell_type": "markdown",
   "id": "23fdf8a3",
   "metadata": {
    "papermill": {
     "duration": 0.003947,
     "end_time": "2024-11-26T09:11:06.332504",
     "exception": false,
     "start_time": "2024-11-26T09:11:06.328557",
     "status": "completed"
    },
    "tags": []
   },
   "source": [
    "## Import Libs"
   ]
  },
  {
   "cell_type": "code",
   "execution_count": 1,
   "id": "770c511c",
   "metadata": {
    "execution": {
     "iopub.execute_input": "2024-11-26T09:11:06.341242Z",
     "iopub.status.busy": "2024-11-26T09:11:06.340849Z",
     "iopub.status.idle": "2024-11-26T09:11:06.352936Z",
     "shell.execute_reply": "2024-11-26T09:11:06.351568Z"
    },
    "papermill": {
     "duration": 0.019252,
     "end_time": "2024-11-26T09:11:06.355315",
     "exception": false,
     "start_time": "2024-11-26T09:11:06.336063",
     "status": "completed"
    },
    "tags": []
   },
   "outputs": [],
   "source": [
    "import os\n",
    "import json\n",
    "import re\n",
    "import ast\n",
    "import base64\n",
    "import io\n",
    "from dataclasses import dataclass, field\n",
    "from typing import List, Tuple\n",
    "import random"
   ]
  },
  {
   "cell_type": "code",
   "execution_count": 2,
   "id": "a4afec2d",
   "metadata": {
    "execution": {
     "iopub.execute_input": "2024-11-26T09:11:06.363364Z",
     "iopub.status.busy": "2024-11-26T09:11:06.362968Z",
     "iopub.status.idle": "2024-11-26T09:11:09.923336Z",
     "shell.execute_reply": "2024-11-26T09:11:09.922433Z"
    },
    "papermill": {
     "duration": 3.567388,
     "end_time": "2024-11-26T09:11:09.925994",
     "exception": false,
     "start_time": "2024-11-26T09:11:06.358606",
     "status": "completed"
    },
    "tags": []
   },
   "outputs": [],
   "source": [
    "import numpy as np\n",
    "import tqdm\n",
    "import torch"
   ]
  },
  {
   "cell_type": "code",
   "execution_count": 3,
   "id": "35594d88",
   "metadata": {
    "execution": {
     "iopub.execute_input": "2024-11-26T09:11:09.934338Z",
     "iopub.status.busy": "2024-11-26T09:11:09.933883Z",
     "iopub.status.idle": "2024-11-26T09:11:13.720303Z",
     "shell.execute_reply": "2024-11-26T09:11:13.719180Z"
    },
    "papermill": {
     "duration": 3.793486,
     "end_time": "2024-11-26T09:11:13.722931",
     "exception": false,
     "start_time": "2024-11-26T09:11:09.929445",
     "status": "completed"
    },
    "tags": []
   },
   "outputs": [],
   "source": [
    "from transformers import BitsAndBytesConfig\n",
    "from transformers import AutoModel, AutoTokenizer, AutoModelForCausalLM\n",
    "import datasets\n",
    "from datasets import load_dataset, DatasetDict, Dataset\n",
    "from huggingface_hub import login"
   ]
  },
  {
   "cell_type": "code",
   "execution_count": 4,
   "id": "91c5a78d",
   "metadata": {
    "execution": {
     "iopub.execute_input": "2024-11-26T09:11:13.732250Z",
     "iopub.status.busy": "2024-11-26T09:11:13.730881Z",
     "iopub.status.idle": "2024-11-26T09:11:41.569370Z",
     "shell.execute_reply": "2024-11-26T09:11:41.568082Z"
    },
    "papermill": {
     "duration": 27.845887,
     "end_time": "2024-11-26T09:11:41.572164",
     "exception": false,
     "start_time": "2024-11-26T09:11:13.726277",
     "status": "completed"
    },
    "tags": []
   },
   "outputs": [
    {
     "name": "stdout",
     "output_type": "stream",
     "text": [
      "Requirement already satisfied: accelerate in /opt/conda/lib/python3.10/site-packages (0.34.2)\r\n",
      "Collecting accelerate\r\n",
      "  Downloading accelerate-1.1.1-py3-none-any.whl.metadata (19 kB)\r\n",
      "Requirement already satisfied: huggingface-hub>=0.21.0 in /opt/conda/lib/python3.10/site-packages (from accelerate) (0.25.1)\r\n",
      "Requirement already satisfied: numpy<3.0.0,>=1.17 in /opt/conda/lib/python3.10/site-packages (from accelerate) (1.26.4)\r\n",
      "Requirement already satisfied: packaging>=20.0 in /opt/conda/lib/python3.10/site-packages (from accelerate) (21.3)\r\n",
      "Requirement already satisfied: psutil in /opt/conda/lib/python3.10/site-packages (from accelerate) (5.9.3)\r\n",
      "Requirement already satisfied: pyyaml in /opt/conda/lib/python3.10/site-packages (from accelerate) (6.0.2)\r\n",
      "Requirement already satisfied: safetensors>=0.4.3 in /opt/conda/lib/python3.10/site-packages (from accelerate) (0.4.5)\r\n",
      "Requirement already satisfied: torch>=1.10.0 in /opt/conda/lib/python3.10/site-packages (from accelerate) (2.4.0+cpu)\r\n",
      "Requirement already satisfied: filelock in /opt/conda/lib/python3.10/site-packages (from huggingface-hub>=0.21.0->accelerate) (3.15.1)\r\n",
      "Requirement already satisfied: fsspec>=2023.5.0 in /opt/conda/lib/python3.10/site-packages (from huggingface-hub>=0.21.0->accelerate) (2024.6.1)\r\n",
      "Requirement already satisfied: requests in /opt/conda/lib/python3.10/site-packages (from huggingface-hub>=0.21.0->accelerate) (2.32.3)\r\n",
      "Requirement already satisfied: tqdm>=4.42.1 in /opt/conda/lib/python3.10/site-packages (from huggingface-hub>=0.21.0->accelerate) (4.66.4)\r\n",
      "Requirement already satisfied: typing-extensions>=3.7.4.3 in /opt/conda/lib/python3.10/site-packages (from huggingface-hub>=0.21.0->accelerate) (4.12.2)\r\n",
      "Requirement already satisfied: pyparsing!=3.0.5,>=2.0.2 in /opt/conda/lib/python3.10/site-packages (from packaging>=20.0->accelerate) (3.1.2)\r\n",
      "Requirement already satisfied: sympy in /opt/conda/lib/python3.10/site-packages (from torch>=1.10.0->accelerate) (1.12)\r\n",
      "Requirement already satisfied: networkx in /opt/conda/lib/python3.10/site-packages (from torch>=1.10.0->accelerate) (3.3)\r\n",
      "Requirement already satisfied: jinja2 in /opt/conda/lib/python3.10/site-packages (from torch>=1.10.0->accelerate) (3.1.4)\r\n",
      "Requirement already satisfied: MarkupSafe>=2.0 in /opt/conda/lib/python3.10/site-packages (from jinja2->torch>=1.10.0->accelerate) (2.1.5)\r\n",
      "Requirement already satisfied: charset-normalizer<4,>=2 in /opt/conda/lib/python3.10/site-packages (from requests->huggingface-hub>=0.21.0->accelerate) (3.3.2)\r\n",
      "Requirement already satisfied: idna<4,>=2.5 in /opt/conda/lib/python3.10/site-packages (from requests->huggingface-hub>=0.21.0->accelerate) (3.7)\r\n",
      "Requirement already satisfied: urllib3<3,>=1.21.1 in /opt/conda/lib/python3.10/site-packages (from requests->huggingface-hub>=0.21.0->accelerate) (1.26.18)\r\n",
      "Requirement already satisfied: certifi>=2017.4.17 in /opt/conda/lib/python3.10/site-packages (from requests->huggingface-hub>=0.21.0->accelerate) (2024.8.30)\r\n",
      "Requirement already satisfied: mpmath>=0.19 in /opt/conda/lib/python3.10/site-packages (from sympy->torch>=1.10.0->accelerate) (1.3.0)\r\n",
      "Downloading accelerate-1.1.1-py3-none-any.whl (333 kB)\r\n",
      "\u001b[2K   \u001b[90m━━━━━━━━━━━━━━━━━━━━━━━━━━━━━━━━━━━━━━━━\u001b[0m \u001b[32m333.2/333.2 kB\u001b[0m \u001b[31m10.0 MB/s\u001b[0m eta \u001b[36m0:00:00\u001b[0m\r\n",
      "\u001b[?25hInstalling collected packages: accelerate\r\n",
      "  Attempting uninstall: accelerate\r\n",
      "    Found existing installation: accelerate 0.34.2\r\n",
      "    Uninstalling accelerate-0.34.2:\r\n",
      "      Successfully uninstalled accelerate-0.34.2\r\n",
      "Successfully installed accelerate-1.1.1\r\n",
      "Collecting bitsandbytes\r\n",
      "  Downloading bitsandbytes-0.44.1-py3-none-manylinux_2_24_x86_64.whl.metadata (3.5 kB)\r\n",
      "Requirement already satisfied: torch in /opt/conda/lib/python3.10/site-packages (from bitsandbytes) (2.4.0+cpu)\r\n",
      "Requirement already satisfied: numpy in /opt/conda/lib/python3.10/site-packages (from bitsandbytes) (1.26.4)\r\n",
      "Requirement already satisfied: filelock in /opt/conda/lib/python3.10/site-packages (from torch->bitsandbytes) (3.15.1)\r\n",
      "Requirement already satisfied: typing-extensions>=4.8.0 in /opt/conda/lib/python3.10/site-packages (from torch->bitsandbytes) (4.12.2)\r\n",
      "Requirement already satisfied: sympy in /opt/conda/lib/python3.10/site-packages (from torch->bitsandbytes) (1.12)\r\n",
      "Requirement already satisfied: networkx in /opt/conda/lib/python3.10/site-packages (from torch->bitsandbytes) (3.3)\r\n",
      "Requirement already satisfied: jinja2 in /opt/conda/lib/python3.10/site-packages (from torch->bitsandbytes) (3.1.4)\r\n",
      "Requirement already satisfied: fsspec in /opt/conda/lib/python3.10/site-packages (from torch->bitsandbytes) (2024.6.1)\r\n",
      "Requirement already satisfied: MarkupSafe>=2.0 in /opt/conda/lib/python3.10/site-packages (from jinja2->torch->bitsandbytes) (2.1.5)\r\n",
      "Requirement already satisfied: mpmath>=0.19 in /opt/conda/lib/python3.10/site-packages (from sympy->torch->bitsandbytes) (1.3.0)\r\n",
      "Downloading bitsandbytes-0.44.1-py3-none-manylinux_2_24_x86_64.whl (122.4 MB)\r\n",
      "\u001b[2K   \u001b[90m━━━━━━━━━━━━━━━━━━━━━━━━━━━━━━━━━━━━━━━━\u001b[0m \u001b[32m122.4/122.4 MB\u001b[0m \u001b[31m13.0 MB/s\u001b[0m eta \u001b[36m0:00:00\u001b[0m\r\n",
      "\u001b[?25hInstalling collected packages: bitsandbytes\r\n",
      "Successfully installed bitsandbytes-0.44.1\r\n"
     ]
    }
   ],
   "source": [
    "!pip install --upgrade accelerate\n",
    "!pip install -U bitsandbytes"
   ]
  },
  {
   "cell_type": "code",
   "execution_count": 5,
   "id": "bb02d7f4",
   "metadata": {
    "execution": {
     "iopub.execute_input": "2024-11-26T09:11:41.587125Z",
     "iopub.status.busy": "2024-11-26T09:11:41.586651Z",
     "iopub.status.idle": "2024-11-26T09:12:07.235589Z",
     "shell.execute_reply": "2024-11-26T09:12:07.234163Z"
    },
    "papermill": {
     "duration": 25.659492,
     "end_time": "2024-11-26T09:12:07.238575",
     "exception": false,
     "start_time": "2024-11-26T09:11:41.579083",
     "status": "completed"
    },
    "tags": []
   },
   "outputs": [
    {
     "name": "stdout",
     "output_type": "stream",
     "text": [
      "\u001b[31mERROR: pip's dependency resolver does not currently take into account all the packages that are installed. This behaviour is the source of the following dependency conflicts.\r\n",
      "albucore 0.0.17 requires numpy>=1.24, but you have numpy 1.23.0 which is incompatible.\r\n",
      "albumentations 1.4.17 requires numpy>=1.24.4, but you have numpy 1.23.0 which is incompatible.\r\n",
      "apache-beam 2.46.0 requires cloudpickle~=2.2.1, but you have cloudpickle 3.0.0 which is incompatible.\r\n",
      "apache-beam 2.46.0 requires dill<0.3.2,>=0.3.1.1, but you have dill 0.3.8 which is incompatible.\r\n",
      "apache-beam 2.46.0 requires pyarrow<10.0.0,>=3.0.0, but you have pyarrow 17.0.0 which is incompatible.\r\n",
      "bayesian-optimization 1.5.1 requires numpy>=1.25, but you have numpy 1.23.0 which is incompatible.\r\n",
      "blis 1.0.1 requires numpy<3.0.0,>=2.0.0, but you have numpy 1.23.0 which is incompatible.\r\n",
      "cesium 0.12.3 requires numpy<3.0,>=2.0, but you have numpy 1.23.0 which is incompatible.\r\n",
      "chex 0.1.87 requires numpy>=1.24.1, but you have numpy 1.23.0 which is incompatible.\r\n",
      "featuretools 1.31.0 requires numpy>=1.25.0, but you have numpy 1.23.0 which is incompatible.\r\n",
      "gensim 4.3.3 requires scipy<1.14.0,>=1.7.0, but you have scipy 1.14.1 which is incompatible.\r\n",
      "ibis-framework 7.1.0 requires pyarrow<15,>=2, but you have pyarrow 17.0.0 which is incompatible.\r\n",
      "jax 0.4.33 requires numpy>=1.24, but you have numpy 1.23.0 which is incompatible.\r\n",
      "jaxlib 0.4.33 requires numpy>=1.24, but you have numpy 1.23.0 which is incompatible.\r\n",
      "libpysal 4.9.2 requires packaging>=22, but you have packaging 21.3 which is incompatible.\r\n",
      "libpysal 4.9.2 requires shapely>=2.0.1, but you have shapely 1.8.5.post1 which is incompatible.\r\n",
      "pyldavis 3.4.1 requires numpy>=1.24.2, but you have numpy 1.23.0 which is incompatible.\r\n",
      "scipy 1.14.1 requires numpy<2.3,>=1.23.5, but you have numpy 1.23.0 which is incompatible.\r\n",
      "tensorflow 2.16.1 requires numpy<2.0.0,>=1.23.5; python_version <= \"3.11\", but you have numpy 1.23.0 which is incompatible.\r\n",
      "thinc 8.3.2 requires numpy<2.1.0,>=2.0.0; python_version >= \"3.9\", but you have numpy 1.23.0 which is incompatible.\r\n",
      "woodwork 0.31.0 requires numpy>=1.25.0, but you have numpy 1.23.0 which is incompatible.\r\n",
      "xarray 2024.9.0 requires numpy>=1.24, but you have numpy 1.23.0 which is incompatible.\r\n",
      "xarray 2024.9.0 requires packaging>=23.1, but you have packaging 21.3 which is incompatible.\r\n",
      "ydata-profiling 4.10.0 requires scipy<1.14,>=1.4.1, but you have scipy 1.14.1 which is incompatible.\u001b[0m\u001b[31m\r\n",
      "\u001b[0m"
     ]
    }
   ],
   "source": [
    "!pip install -q 'numpy<2' #datasets cohere torch transformers einops faiss-cpu\n",
    "!pip install -q -U numpy==1.23.0"
   ]
  },
  {
   "cell_type": "code",
   "execution_count": 6,
   "id": "08e5f894",
   "metadata": {
    "execution": {
     "iopub.execute_input": "2024-11-26T09:12:07.254432Z",
     "iopub.status.busy": "2024-11-26T09:12:07.253883Z",
     "iopub.status.idle": "2024-11-26T09:12:07.268699Z",
     "shell.execute_reply": "2024-11-26T09:12:07.267511Z"
    },
    "papermill": {
     "duration": 0.025749,
     "end_time": "2024-11-26T09:12:07.271194",
     "exception": false,
     "start_time": "2024-11-26T09:12:07.245445",
     "status": "completed"
    },
    "tags": []
   },
   "outputs": [],
   "source": [
    "#import cohere\n",
    "from kaggle_secrets import UserSecretsClient"
   ]
  },
  {
   "cell_type": "code",
   "execution_count": 7,
   "id": "65f88bfd",
   "metadata": {
    "execution": {
     "iopub.execute_input": "2024-11-26T09:12:07.286549Z",
     "iopub.status.busy": "2024-11-26T09:12:07.285499Z",
     "iopub.status.idle": "2024-11-26T09:12:07.620987Z",
     "shell.execute_reply": "2024-11-26T09:12:07.619846Z"
    },
    "papermill": {
     "duration": 0.345876,
     "end_time": "2024-11-26T09:12:07.623556",
     "exception": false,
     "start_time": "2024-11-26T09:12:07.277680",
     "status": "completed"
    },
    "tags": []
   },
   "outputs": [],
   "source": [
    "user_secrets = UserSecretsClient()\n",
    "secret_value_0 = user_secrets.get_secret(\"COHERE_API_KEY\")\n",
    "secret_value_1 = user_secrets.get_secret(\"HF_KEY\")"
   ]
  },
  {
   "cell_type": "code",
   "execution_count": 8,
   "id": "befc58f6",
   "metadata": {
    "execution": {
     "iopub.execute_input": "2024-11-26T09:12:07.638928Z",
     "iopub.status.busy": "2024-11-26T09:12:07.638416Z",
     "iopub.status.idle": "2024-11-26T09:12:07.666005Z",
     "shell.execute_reply": "2024-11-26T09:12:07.664673Z"
    },
    "papermill": {
     "duration": 0.037953,
     "end_time": "2024-11-26T09:12:07.668812",
     "exception": false,
     "start_time": "2024-11-26T09:12:07.630859",
     "status": "completed"
    },
    "tags": []
   },
   "outputs": [],
   "source": [
    "COHERE_MODEL = \"/kaggle/input/aya-expanse/transformers/8b/1\"\n",
    "EMBEDDING_MODEL = 'jinaai/jina-embeddings-v3'\n",
    "quantization_config = BitsAndBytesConfig(load_in_4bit=True, bnb_4bit_compute_dtype=torch.bfloat16)\n",
    "DEVICE = 'cuda' if torch.cuda.is_available() else 'cpu'\n",
    "GLOBAL_FESTIVALS_DATASET = 'ciol-research/global-festivals-wiki'\n",
    "GLOBAL_FESTIVALS_DATASET_T = 'azminetoushikwasi/global-festivals-translated'\n",
    "LANGAUGES = ['english', 'german', 'french', 'spanish', 'indian', 'japanese', 'korean', 'turkish', 'italian']"
   ]
  },
  {
   "cell_type": "markdown",
   "id": "7b227c34",
   "metadata": {
    "papermill": {
     "duration": 0.006455,
     "end_time": "2024-11-26T09:12:07.681823",
     "exception": false,
     "start_time": "2024-11-26T09:12:07.675368",
     "status": "completed"
    },
    "tags": []
   },
   "source": [
    "## Loading Models and APIs"
   ]
  },
  {
   "cell_type": "code",
   "execution_count": 9,
   "id": "e0cf65fb",
   "metadata": {
    "execution": {
     "iopub.execute_input": "2024-11-26T09:12:07.696629Z",
     "iopub.status.busy": "2024-11-26T09:12:07.696136Z",
     "iopub.status.idle": "2024-11-26T09:12:19.973370Z",
     "shell.execute_reply": "2024-11-26T09:12:19.972030Z"
    },
    "papermill": {
     "duration": 12.287903,
     "end_time": "2024-11-26T09:12:19.976144",
     "exception": false,
     "start_time": "2024-11-26T09:12:07.688241",
     "status": "completed"
    },
    "tags": []
   },
   "outputs": [
    {
     "name": "stdout",
     "output_type": "stream",
     "text": [
      "Collecting cohere\r\n",
      "  Downloading cohere-5.11.4-py3-none-any.whl.metadata (3.5 kB)\r\n",
      "Requirement already satisfied: fastavro<2.0.0,>=1.9.4 in /opt/conda/lib/python3.10/site-packages (from cohere) (1.9.4)\r\n",
      "Requirement already satisfied: httpx>=0.21.2 in /opt/conda/lib/python3.10/site-packages (from cohere) (0.27.0)\r\n",
      "Collecting httpx-sse==0.4.0 (from cohere)\r\n",
      "  Downloading httpx_sse-0.4.0-py3-none-any.whl.metadata (9.0 kB)\r\n",
      "Collecting parameterized<0.10.0,>=0.9.0 (from cohere)\r\n",
      "  Downloading parameterized-0.9.0-py2.py3-none-any.whl.metadata (18 kB)\r\n",
      "Requirement already satisfied: pydantic>=1.9.2 in /opt/conda/lib/python3.10/site-packages (from cohere) (2.9.2)\r\n",
      "Requirement already satisfied: pydantic-core<3.0.0,>=2.18.2 in /opt/conda/lib/python3.10/site-packages (from cohere) (2.23.4)\r\n",
      "Requirement already satisfied: requests<3.0.0,>=2.0.0 in /opt/conda/lib/python3.10/site-packages (from cohere) (2.32.3)\r\n",
      "Requirement already satisfied: tokenizers<1,>=0.15 in /opt/conda/lib/python3.10/site-packages (from cohere) (0.20.0)\r\n",
      "Collecting types-requests<3.0.0,>=2.0.0 (from cohere)\r\n",
      "  Downloading types_requests-2.32.0.20241016-py3-none-any.whl.metadata (1.9 kB)\r\n",
      "Requirement already satisfied: typing_extensions>=4.0.0 in /opt/conda/lib/python3.10/site-packages (from cohere) (4.12.2)\r\n",
      "Requirement already satisfied: anyio in /opt/conda/lib/python3.10/site-packages (from httpx>=0.21.2->cohere) (4.4.0)\r\n",
      "Requirement already satisfied: certifi in /opt/conda/lib/python3.10/site-packages (from httpx>=0.21.2->cohere) (2024.8.30)\r\n",
      "Requirement already satisfied: httpcore==1.* in /opt/conda/lib/python3.10/site-packages (from httpx>=0.21.2->cohere) (1.0.5)\r\n",
      "Requirement already satisfied: idna in /opt/conda/lib/python3.10/site-packages (from httpx>=0.21.2->cohere) (3.7)\r\n",
      "Requirement already satisfied: sniffio in /opt/conda/lib/python3.10/site-packages (from httpx>=0.21.2->cohere) (1.3.1)\r\n",
      "Requirement already satisfied: h11<0.15,>=0.13 in /opt/conda/lib/python3.10/site-packages (from httpcore==1.*->httpx>=0.21.2->cohere) (0.14.0)\r\n",
      "Requirement already satisfied: annotated-types>=0.6.0 in /opt/conda/lib/python3.10/site-packages (from pydantic>=1.9.2->cohere) (0.7.0)\r\n",
      "Requirement already satisfied: charset-normalizer<4,>=2 in /opt/conda/lib/python3.10/site-packages (from requests<3.0.0,>=2.0.0->cohere) (3.3.2)\r\n",
      "Requirement already satisfied: urllib3<3,>=1.21.1 in /opt/conda/lib/python3.10/site-packages (from requests<3.0.0,>=2.0.0->cohere) (1.26.18)\r\n",
      "Requirement already satisfied: huggingface-hub<1.0,>=0.16.4 in /opt/conda/lib/python3.10/site-packages (from tokenizers<1,>=0.15->cohere) (0.25.1)\r\n",
      "Collecting urllib3<3,>=1.21.1 (from requests<3.0.0,>=2.0.0->cohere)\r\n",
      "  Downloading urllib3-2.2.3-py3-none-any.whl.metadata (6.5 kB)\r\n",
      "Requirement already satisfied: filelock in /opt/conda/lib/python3.10/site-packages (from huggingface-hub<1.0,>=0.16.4->tokenizers<1,>=0.15->cohere) (3.15.1)\r\n",
      "Requirement already satisfied: fsspec>=2023.5.0 in /opt/conda/lib/python3.10/site-packages (from huggingface-hub<1.0,>=0.16.4->tokenizers<1,>=0.15->cohere) (2024.6.1)\r\n",
      "Requirement already satisfied: packaging>=20.9 in /opt/conda/lib/python3.10/site-packages (from huggingface-hub<1.0,>=0.16.4->tokenizers<1,>=0.15->cohere) (21.3)\r\n",
      "Requirement already satisfied: pyyaml>=5.1 in /opt/conda/lib/python3.10/site-packages (from huggingface-hub<1.0,>=0.16.4->tokenizers<1,>=0.15->cohere) (6.0.2)\r\n",
      "Requirement already satisfied: tqdm>=4.42.1 in /opt/conda/lib/python3.10/site-packages (from huggingface-hub<1.0,>=0.16.4->tokenizers<1,>=0.15->cohere) (4.66.4)\r\n",
      "Requirement already satisfied: exceptiongroup>=1.0.2 in /opt/conda/lib/python3.10/site-packages (from anyio->httpx>=0.21.2->cohere) (1.2.0)\r\n",
      "Requirement already satisfied: pyparsing!=3.0.5,>=2.0.2 in /opt/conda/lib/python3.10/site-packages (from packaging>=20.9->huggingface-hub<1.0,>=0.16.4->tokenizers<1,>=0.15->cohere) (3.1.2)\r\n",
      "Downloading cohere-5.11.4-py3-none-any.whl (249 kB)\r\n",
      "\u001b[2K   \u001b[90m━━━━━━━━━━━━━━━━━━━━━━━━━━━━━━━━━━━━━━━━\u001b[0m \u001b[32m249.7/249.7 kB\u001b[0m \u001b[31m6.7 MB/s\u001b[0m eta \u001b[36m0:00:00\u001b[0m\r\n",
      "\u001b[?25hDownloading httpx_sse-0.4.0-py3-none-any.whl (7.8 kB)\r\n",
      "Downloading parameterized-0.9.0-py2.py3-none-any.whl (20 kB)\r\n",
      "Downloading types_requests-2.32.0.20241016-py3-none-any.whl (15 kB)\r\n",
      "Downloading urllib3-2.2.3-py3-none-any.whl (126 kB)\r\n",
      "\u001b[2K   \u001b[90m━━━━━━━━━━━━━━━━━━━━━━━━━━━━━━━━━━━━━━━━\u001b[0m \u001b[32m126.3/126.3 kB\u001b[0m \u001b[31m5.9 MB/s\u001b[0m eta \u001b[36m0:00:00\u001b[0m\r\n",
      "\u001b[?25hInstalling collected packages: urllib3, parameterized, httpx-sse, types-requests, cohere\r\n",
      "  Attempting uninstall: urllib3\r\n",
      "    Found existing installation: urllib3 1.26.18\r\n",
      "    Uninstalling urllib3-1.26.18:\r\n",
      "      Successfully uninstalled urllib3-1.26.18\r\n",
      "\u001b[31mERROR: pip's dependency resolver does not currently take into account all the packages that are installed. This behaviour is the source of the following dependency conflicts.\r\n",
      "kfp 2.5.0 requires google-cloud-storage<3,>=2.2.1, but you have google-cloud-storage 1.44.0 which is incompatible.\r\n",
      "kfp 2.5.0 requires urllib3<2.0.0, but you have urllib3 2.2.3 which is incompatible.\r\n",
      "tensorflow 2.16.1 requires numpy<2.0.0,>=1.23.5; python_version <= \"3.11\", but you have numpy 1.23.0 which is incompatible.\r\n",
      "ydata-profiling 4.10.0 requires scipy<1.14,>=1.4.1, but you have scipy 1.14.1 which is incompatible.\u001b[0m\u001b[31m\r\n",
      "\u001b[0mSuccessfully installed cohere-5.11.4 httpx-sse-0.4.0 parameterized-0.9.0 types-requests-2.32.0.20241016 urllib3-2.2.1\r\n"
     ]
    }
   ],
   "source": [
    "!pip install cohere"
   ]
  },
  {
   "cell_type": "code",
   "execution_count": 10,
   "id": "0ba54f1b",
   "metadata": {
    "execution": {
     "iopub.execute_input": "2024-11-26T09:12:19.993976Z",
     "iopub.status.busy": "2024-11-26T09:12:19.993524Z",
     "iopub.status.idle": "2024-11-26T09:12:20.984244Z",
     "shell.execute_reply": "2024-11-26T09:12:20.983267Z"
    },
    "papermill": {
     "duration": 1.002678,
     "end_time": "2024-11-26T09:12:20.986653",
     "exception": false,
     "start_time": "2024-11-26T09:12:19.983975",
     "status": "completed"
    },
    "tags": []
   },
   "outputs": [],
   "source": [
    "import cohere\n",
    "co = cohere.ClientV2(COHERE_MODEL)\n"
   ]
  },
  {
   "cell_type": "code",
   "execution_count": null,
   "id": "bba7e587",
   "metadata": {
    "papermill": {
     "duration": 0.006961,
     "end_time": "2024-11-26T09:12:21.001130",
     "exception": false,
     "start_time": "2024-11-26T09:12:20.994169",
     "status": "completed"
    },
    "tags": []
   },
   "outputs": [],
   "source": []
  }
 ],
 "metadata": {
  "kaggle": {
   "accelerator": "none",
   "dataSources": [],
   "dockerImageVersionId": 30786,
   "isGpuEnabled": false,
   "isInternetEnabled": true,
   "language": "python",
   "sourceType": "notebook"
  },
  "kernelspec": {
   "display_name": "Python 3",
   "language": "python",
   "name": "python3"
  },
  "language_info": {
   "codemirror_mode": {
    "name": "ipython",
    "version": 3
   },
   "file_extension": ".py",
   "mimetype": "text/x-python",
   "name": "python",
   "nbconvert_exporter": "python",
   "pygments_lexer": "ipython3",
   "version": "3.10.14"
  },
  "papermill": {
   "default_parameters": {},
   "duration": 79.196438,
   "end_time": "2024-11-26T09:12:22.433915",
   "environment_variables": {},
   "exception": null,
   "input_path": "__notebook__.ipynb",
   "output_path": "__notebook__.ipynb",
   "parameters": {},
   "start_time": "2024-11-26T09:11:03.237477",
   "version": "2.6.0"
  }
 },
 "nbformat": 4,
 "nbformat_minor": 5
}
