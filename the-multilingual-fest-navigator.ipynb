{
 "cells": [
  {
   "cell_type": "markdown",
   "id": "a1f263b0",
   "metadata": {
    "papermill": {
     "duration": 0.002625,
     "end_time": "2024-11-26T06:59:41.140673",
     "exception": false,
     "start_time": "2024-11-26T06:59:41.138048",
     "status": "completed"
    },
    "tags": []
   },
   "source": [
    "## Import Libs"
   ]
  },
  {
   "cell_type": "code",
   "execution_count": 1,
   "id": "947972b6",
   "metadata": {
    "execution": {
     "iopub.execute_input": "2024-11-26T06:59:41.148343Z",
     "iopub.status.busy": "2024-11-26T06:59:41.147890Z",
     "iopub.status.idle": "2024-11-26T06:59:41.160291Z",
     "shell.execute_reply": "2024-11-26T06:59:41.158856Z"
    },
    "papermill": {
     "duration": 0.019221,
     "end_time": "2024-11-26T06:59:41.162890",
     "exception": false,
     "start_time": "2024-11-26T06:59:41.143669",
     "status": "completed"
    },
    "tags": []
   },
   "outputs": [],
   "source": [
    "import os\n",
    "import json\n",
    "import re\n",
    "import ast\n",
    "import base64\n",
    "import io\n",
    "from dataclasses import dataclass, field\n",
    "from typing import List, Tuple\n",
    "import random"
   ]
  },
  {
   "cell_type": "code",
   "execution_count": 2,
   "id": "3dcee189",
   "metadata": {
    "execution": {
     "iopub.execute_input": "2024-11-26T06:59:41.169720Z",
     "iopub.status.busy": "2024-11-26T06:59:41.169267Z",
     "iopub.status.idle": "2024-11-26T06:59:44.936167Z",
     "shell.execute_reply": "2024-11-26T06:59:44.934962Z"
    },
    "papermill": {
     "duration": 3.773199,
     "end_time": "2024-11-26T06:59:44.938875",
     "exception": false,
     "start_time": "2024-11-26T06:59:41.165676",
     "status": "completed"
    },
    "tags": []
   },
   "outputs": [],
   "source": [
    "import numpy as np\n",
    "import tqdm\n",
    "import torch"
   ]
  },
  {
   "cell_type": "code",
   "execution_count": null,
   "id": "30cf2e19",
   "metadata": {
    "papermill": {
     "duration": 0.001699,
     "end_time": "2024-11-26T06:59:44.942711",
     "exception": false,
     "start_time": "2024-11-26T06:59:44.941012",
     "status": "completed"
    },
    "tags": []
   },
   "outputs": [],
   "source": []
  },
  {
   "cell_type": "code",
   "execution_count": null,
   "id": "6d1aa2f1",
   "metadata": {
    "papermill": {
     "duration": 0.001505,
     "end_time": "2024-11-26T06:59:44.945978",
     "exception": false,
     "start_time": "2024-11-26T06:59:44.944473",
     "status": "completed"
    },
    "tags": []
   },
   "outputs": [],
   "source": []
  },
  {
   "cell_type": "code",
   "execution_count": null,
   "id": "259c7141",
   "metadata": {
    "papermill": {
     "duration": 0.001561,
     "end_time": "2024-11-26T06:59:44.949235",
     "exception": false,
     "start_time": "2024-11-26T06:59:44.947674",
     "status": "completed"
    },
    "tags": []
   },
   "outputs": [],
   "source": []
  }
 ],
 "metadata": {
  "kaggle": {
   "accelerator": "none",
   "dataSources": [],
   "dockerImageVersionId": 30786,
   "isGpuEnabled": false,
   "isInternetEnabled": true,
   "language": "python",
   "sourceType": "notebook"
  },
  "kernelspec": {
   "display_name": "Python 3",
   "language": "python",
   "name": "python3"
  },
  "language_info": {
   "codemirror_mode": {
    "name": "ipython",
    "version": 3
   },
   "file_extension": ".py",
   "mimetype": "text/x-python",
   "name": "python",
   "nbconvert_exporter": "python",
   "pygments_lexer": "ipython3",
   "version": "3.10.14"
  },
  "papermill": {
   "default_parameters": {},
   "duration": 7.767995,
   "end_time": "2024-11-26T06:59:45.874828",
   "environment_variables": {},
   "exception": null,
   "input_path": "__notebook__.ipynb",
   "output_path": "__notebook__.ipynb",
   "parameters": {},
   "start_time": "2024-11-26T06:59:38.106833",
   "version": "2.6.0"
  }
 },
 "nbformat": 4,
 "nbformat_minor": 5
}
